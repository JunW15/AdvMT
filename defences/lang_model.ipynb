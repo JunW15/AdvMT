{
 "cells": [
  {
   "cell_type": "code",
   "execution_count": 1,
   "metadata": {
    "collapsed": true
   },
   "outputs": [],
   "source": [
    "from fairseq.models.transformer_lm import TransformerLanguageModel"
   ]
  },
  {
   "cell_type": "code",
   "execution_count": 2,
   "outputs": [],
   "source": [
    "en_lm = TransformerLanguageModel.from_pretrained(\n",
    "    '/home/chang/cache/lm/wmt19.en',\n",
    "    'model.pt',\n",
    "    tokenizer='moses',\n",
    "    bpe='fastbpe')"
   ],
   "metadata": {
    "collapsed": false,
    "pycharm": {
     "name": "#%%\n"
    }
   }
  },
  {
   "cell_type": "code",
   "execution_count": 4,
   "outputs": [
    {
     "data": {
      "text/plain": "GeneratorHubInterface(\n  (models): ModuleList(\n    (0): TransformerLanguageModel(\n      (decoder): TransformerDecoder(\n        (embed_tokens): Embedding(42022, 1024, padding_idx=1)\n        (project_in_dim): Linear(in_features=1024, out_features=1536, bias=False)\n        (embed_positions): SinusoidalPositionalEmbedding()\n        (layers): ModuleList(\n          (0): TransformerDecoderLayer(\n            (self_attn): MultiheadAttention(\n              (k_proj): Linear(in_features=1536, out_features=1536, bias=True)\n              (v_proj): Linear(in_features=1536, out_features=1536, bias=True)\n              (q_proj): Linear(in_features=1536, out_features=1536, bias=True)\n              (out_proj): Linear(in_features=1536, out_features=1536, bias=True)\n            )\n            (self_attn_layer_norm): LayerNorm((1536,), eps=1e-05, elementwise_affine=True)\n            (fc1): Linear(in_features=1536, out_features=6144, bias=True)\n            (fc2): Linear(in_features=6144, out_features=1536, bias=True)\n            (final_layer_norm): LayerNorm((1536,), eps=1e-05, elementwise_affine=True)\n          )\n          (1): TransformerDecoderLayer(\n            (self_attn): MultiheadAttention(\n              (k_proj): Linear(in_features=1536, out_features=1536, bias=True)\n              (v_proj): Linear(in_features=1536, out_features=1536, bias=True)\n              (q_proj): Linear(in_features=1536, out_features=1536, bias=True)\n              (out_proj): Linear(in_features=1536, out_features=1536, bias=True)\n            )\n            (self_attn_layer_norm): LayerNorm((1536,), eps=1e-05, elementwise_affine=True)\n            (fc1): Linear(in_features=1536, out_features=6144, bias=True)\n            (fc2): Linear(in_features=6144, out_features=1536, bias=True)\n            (final_layer_norm): LayerNorm((1536,), eps=1e-05, elementwise_affine=True)\n          )\n          (2): TransformerDecoderLayer(\n            (self_attn): MultiheadAttention(\n              (k_proj): Linear(in_features=1536, out_features=1536, bias=True)\n              (v_proj): Linear(in_features=1536, out_features=1536, bias=True)\n              (q_proj): Linear(in_features=1536, out_features=1536, bias=True)\n              (out_proj): Linear(in_features=1536, out_features=1536, bias=True)\n            )\n            (self_attn_layer_norm): LayerNorm((1536,), eps=1e-05, elementwise_affine=True)\n            (fc1): Linear(in_features=1536, out_features=6144, bias=True)\n            (fc2): Linear(in_features=6144, out_features=1536, bias=True)\n            (final_layer_norm): LayerNorm((1536,), eps=1e-05, elementwise_affine=True)\n          )\n          (3): TransformerDecoderLayer(\n            (self_attn): MultiheadAttention(\n              (k_proj): Linear(in_features=1536, out_features=1536, bias=True)\n              (v_proj): Linear(in_features=1536, out_features=1536, bias=True)\n              (q_proj): Linear(in_features=1536, out_features=1536, bias=True)\n              (out_proj): Linear(in_features=1536, out_features=1536, bias=True)\n            )\n            (self_attn_layer_norm): LayerNorm((1536,), eps=1e-05, elementwise_affine=True)\n            (fc1): Linear(in_features=1536, out_features=6144, bias=True)\n            (fc2): Linear(in_features=6144, out_features=1536, bias=True)\n            (final_layer_norm): LayerNorm((1536,), eps=1e-05, elementwise_affine=True)\n          )\n          (4): TransformerDecoderLayer(\n            (self_attn): MultiheadAttention(\n              (k_proj): Linear(in_features=1536, out_features=1536, bias=True)\n              (v_proj): Linear(in_features=1536, out_features=1536, bias=True)\n              (q_proj): Linear(in_features=1536, out_features=1536, bias=True)\n              (out_proj): Linear(in_features=1536, out_features=1536, bias=True)\n            )\n            (self_attn_layer_norm): LayerNorm((1536,), eps=1e-05, elementwise_affine=True)\n            (fc1): Linear(in_features=1536, out_features=6144, bias=True)\n            (fc2): Linear(in_features=6144, out_features=1536, bias=True)\n            (final_layer_norm): LayerNorm((1536,), eps=1e-05, elementwise_affine=True)\n          )\n          (5): TransformerDecoderLayer(\n            (self_attn): MultiheadAttention(\n              (k_proj): Linear(in_features=1536, out_features=1536, bias=True)\n              (v_proj): Linear(in_features=1536, out_features=1536, bias=True)\n              (q_proj): Linear(in_features=1536, out_features=1536, bias=True)\n              (out_proj): Linear(in_features=1536, out_features=1536, bias=True)\n            )\n            (self_attn_layer_norm): LayerNorm((1536,), eps=1e-05, elementwise_affine=True)\n            (fc1): Linear(in_features=1536, out_features=6144, bias=True)\n            (fc2): Linear(in_features=6144, out_features=1536, bias=True)\n            (final_layer_norm): LayerNorm((1536,), eps=1e-05, elementwise_affine=True)\n          )\n          (6): TransformerDecoderLayer(\n            (self_attn): MultiheadAttention(\n              (k_proj): Linear(in_features=1536, out_features=1536, bias=True)\n              (v_proj): Linear(in_features=1536, out_features=1536, bias=True)\n              (q_proj): Linear(in_features=1536, out_features=1536, bias=True)\n              (out_proj): Linear(in_features=1536, out_features=1536, bias=True)\n            )\n            (self_attn_layer_norm): LayerNorm((1536,), eps=1e-05, elementwise_affine=True)\n            (fc1): Linear(in_features=1536, out_features=6144, bias=True)\n            (fc2): Linear(in_features=6144, out_features=1536, bias=True)\n            (final_layer_norm): LayerNorm((1536,), eps=1e-05, elementwise_affine=True)\n          )\n          (7): TransformerDecoderLayer(\n            (self_attn): MultiheadAttention(\n              (k_proj): Linear(in_features=1536, out_features=1536, bias=True)\n              (v_proj): Linear(in_features=1536, out_features=1536, bias=True)\n              (q_proj): Linear(in_features=1536, out_features=1536, bias=True)\n              (out_proj): Linear(in_features=1536, out_features=1536, bias=True)\n            )\n            (self_attn_layer_norm): LayerNorm((1536,), eps=1e-05, elementwise_affine=True)\n            (fc1): Linear(in_features=1536, out_features=6144, bias=True)\n            (fc2): Linear(in_features=6144, out_features=1536, bias=True)\n            (final_layer_norm): LayerNorm((1536,), eps=1e-05, elementwise_affine=True)\n          )\n          (8): TransformerDecoderLayer(\n            (self_attn): MultiheadAttention(\n              (k_proj): Linear(in_features=1536, out_features=1536, bias=True)\n              (v_proj): Linear(in_features=1536, out_features=1536, bias=True)\n              (q_proj): Linear(in_features=1536, out_features=1536, bias=True)\n              (out_proj): Linear(in_features=1536, out_features=1536, bias=True)\n            )\n            (self_attn_layer_norm): LayerNorm((1536,), eps=1e-05, elementwise_affine=True)\n            (fc1): Linear(in_features=1536, out_features=6144, bias=True)\n            (fc2): Linear(in_features=6144, out_features=1536, bias=True)\n            (final_layer_norm): LayerNorm((1536,), eps=1e-05, elementwise_affine=True)\n          )\n          (9): TransformerDecoderLayer(\n            (self_attn): MultiheadAttention(\n              (k_proj): Linear(in_features=1536, out_features=1536, bias=True)\n              (v_proj): Linear(in_features=1536, out_features=1536, bias=True)\n              (q_proj): Linear(in_features=1536, out_features=1536, bias=True)\n              (out_proj): Linear(in_features=1536, out_features=1536, bias=True)\n            )\n            (self_attn_layer_norm): LayerNorm((1536,), eps=1e-05, elementwise_affine=True)\n            (fc1): Linear(in_features=1536, out_features=6144, bias=True)\n            (fc2): Linear(in_features=6144, out_features=1536, bias=True)\n            (final_layer_norm): LayerNorm((1536,), eps=1e-05, elementwise_affine=True)\n          )\n          (10): TransformerDecoderLayer(\n            (self_attn): MultiheadAttention(\n              (k_proj): Linear(in_features=1536, out_features=1536, bias=True)\n              (v_proj): Linear(in_features=1536, out_features=1536, bias=True)\n              (q_proj): Linear(in_features=1536, out_features=1536, bias=True)\n              (out_proj): Linear(in_features=1536, out_features=1536, bias=True)\n            )\n            (self_attn_layer_norm): LayerNorm((1536,), eps=1e-05, elementwise_affine=True)\n            (fc1): Linear(in_features=1536, out_features=6144, bias=True)\n            (fc2): Linear(in_features=6144, out_features=1536, bias=True)\n            (final_layer_norm): LayerNorm((1536,), eps=1e-05, elementwise_affine=True)\n          )\n          (11): TransformerDecoderLayer(\n            (self_attn): MultiheadAttention(\n              (k_proj): Linear(in_features=1536, out_features=1536, bias=True)\n              (v_proj): Linear(in_features=1536, out_features=1536, bias=True)\n              (q_proj): Linear(in_features=1536, out_features=1536, bias=True)\n              (out_proj): Linear(in_features=1536, out_features=1536, bias=True)\n            )\n            (self_attn_layer_norm): LayerNorm((1536,), eps=1e-05, elementwise_affine=True)\n            (fc1): Linear(in_features=1536, out_features=6144, bias=True)\n            (fc2): Linear(in_features=6144, out_features=1536, bias=True)\n            (final_layer_norm): LayerNorm((1536,), eps=1e-05, elementwise_affine=True)\n          )\n          (12): TransformerDecoderLayer(\n            (self_attn): MultiheadAttention(\n              (k_proj): Linear(in_features=1536, out_features=1536, bias=True)\n              (v_proj): Linear(in_features=1536, out_features=1536, bias=True)\n              (q_proj): Linear(in_features=1536, out_features=1536, bias=True)\n              (out_proj): Linear(in_features=1536, out_features=1536, bias=True)\n            )\n            (self_attn_layer_norm): LayerNorm((1536,), eps=1e-05, elementwise_affine=True)\n            (fc1): Linear(in_features=1536, out_features=6144, bias=True)\n            (fc2): Linear(in_features=6144, out_features=1536, bias=True)\n            (final_layer_norm): LayerNorm((1536,), eps=1e-05, elementwise_affine=True)\n          )\n          (13): TransformerDecoderLayer(\n            (self_attn): MultiheadAttention(\n              (k_proj): Linear(in_features=1536, out_features=1536, bias=True)\n              (v_proj): Linear(in_features=1536, out_features=1536, bias=True)\n              (q_proj): Linear(in_features=1536, out_features=1536, bias=True)\n              (out_proj): Linear(in_features=1536, out_features=1536, bias=True)\n            )\n            (self_attn_layer_norm): LayerNorm((1536,), eps=1e-05, elementwise_affine=True)\n            (fc1): Linear(in_features=1536, out_features=6144, bias=True)\n            (fc2): Linear(in_features=6144, out_features=1536, bias=True)\n            (final_layer_norm): LayerNorm((1536,), eps=1e-05, elementwise_affine=True)\n          )\n          (14): TransformerDecoderLayer(\n            (self_attn): MultiheadAttention(\n              (k_proj): Linear(in_features=1536, out_features=1536, bias=True)\n              (v_proj): Linear(in_features=1536, out_features=1536, bias=True)\n              (q_proj): Linear(in_features=1536, out_features=1536, bias=True)\n              (out_proj): Linear(in_features=1536, out_features=1536, bias=True)\n            )\n            (self_attn_layer_norm): LayerNorm((1536,), eps=1e-05, elementwise_affine=True)\n            (fc1): Linear(in_features=1536, out_features=6144, bias=True)\n            (fc2): Linear(in_features=6144, out_features=1536, bias=True)\n            (final_layer_norm): LayerNorm((1536,), eps=1e-05, elementwise_affine=True)\n          )\n          (15): TransformerDecoderLayer(\n            (self_attn): MultiheadAttention(\n              (k_proj): Linear(in_features=1536, out_features=1536, bias=True)\n              (v_proj): Linear(in_features=1536, out_features=1536, bias=True)\n              (q_proj): Linear(in_features=1536, out_features=1536, bias=True)\n              (out_proj): Linear(in_features=1536, out_features=1536, bias=True)\n            )\n            (self_attn_layer_norm): LayerNorm((1536,), eps=1e-05, elementwise_affine=True)\n            (fc1): Linear(in_features=1536, out_features=6144, bias=True)\n            (fc2): Linear(in_features=6144, out_features=1536, bias=True)\n            (final_layer_norm): LayerNorm((1536,), eps=1e-05, elementwise_affine=True)\n          )\n          (16): TransformerDecoderLayer(\n            (self_attn): MultiheadAttention(\n              (k_proj): Linear(in_features=1536, out_features=1536, bias=True)\n              (v_proj): Linear(in_features=1536, out_features=1536, bias=True)\n              (q_proj): Linear(in_features=1536, out_features=1536, bias=True)\n              (out_proj): Linear(in_features=1536, out_features=1536, bias=True)\n            )\n            (self_attn_layer_norm): LayerNorm((1536,), eps=1e-05, elementwise_affine=True)\n            (fc1): Linear(in_features=1536, out_features=6144, bias=True)\n            (fc2): Linear(in_features=6144, out_features=1536, bias=True)\n            (final_layer_norm): LayerNorm((1536,), eps=1e-05, elementwise_affine=True)\n          )\n          (17): TransformerDecoderLayer(\n            (self_attn): MultiheadAttention(\n              (k_proj): Linear(in_features=1536, out_features=1536, bias=True)\n              (v_proj): Linear(in_features=1536, out_features=1536, bias=True)\n              (q_proj): Linear(in_features=1536, out_features=1536, bias=True)\n              (out_proj): Linear(in_features=1536, out_features=1536, bias=True)\n            )\n            (self_attn_layer_norm): LayerNorm((1536,), eps=1e-05, elementwise_affine=True)\n            (fc1): Linear(in_features=1536, out_features=6144, bias=True)\n            (fc2): Linear(in_features=6144, out_features=1536, bias=True)\n            (final_layer_norm): LayerNorm((1536,), eps=1e-05, elementwise_affine=True)\n          )\n          (18): TransformerDecoderLayer(\n            (self_attn): MultiheadAttention(\n              (k_proj): Linear(in_features=1536, out_features=1536, bias=True)\n              (v_proj): Linear(in_features=1536, out_features=1536, bias=True)\n              (q_proj): Linear(in_features=1536, out_features=1536, bias=True)\n              (out_proj): Linear(in_features=1536, out_features=1536, bias=True)\n            )\n            (self_attn_layer_norm): LayerNorm((1536,), eps=1e-05, elementwise_affine=True)\n            (fc1): Linear(in_features=1536, out_features=6144, bias=True)\n            (fc2): Linear(in_features=6144, out_features=1536, bias=True)\n            (final_layer_norm): LayerNorm((1536,), eps=1e-05, elementwise_affine=True)\n          )\n          (19): TransformerDecoderLayer(\n            (self_attn): MultiheadAttention(\n              (k_proj): Linear(in_features=1536, out_features=1536, bias=True)\n              (v_proj): Linear(in_features=1536, out_features=1536, bias=True)\n              (q_proj): Linear(in_features=1536, out_features=1536, bias=True)\n              (out_proj): Linear(in_features=1536, out_features=1536, bias=True)\n            )\n            (self_attn_layer_norm): LayerNorm((1536,), eps=1e-05, elementwise_affine=True)\n            (fc1): Linear(in_features=1536, out_features=6144, bias=True)\n            (fc2): Linear(in_features=6144, out_features=1536, bias=True)\n            (final_layer_norm): LayerNorm((1536,), eps=1e-05, elementwise_affine=True)\n          )\n        )\n        (project_out_dim): Linear(in_features=1536, out_features=1024, bias=False)\n        (output_projection): Linear(in_features=1024, out_features=42022, bias=False)\n      )\n    )\n  )\n)"
     },
     "execution_count": 4,
     "metadata": {},
     "output_type": "execute_result"
    }
   ],
   "source": [
    "en_lm.eval()\n",
    "# en_lm.cuda()"
   ],
   "metadata": {
    "collapsed": false,
    "pycharm": {
     "name": "#%%\n"
    }
   }
  },
  {
   "cell_type": "code",
   "execution_count": 57,
   "outputs": [
    {
     "name": "stdout",
     "output_type": "stream",
     "text": [
      "233.0269775390625\n",
      "233.0269775390625\n"
     ]
    }
   ],
   "source": [
    "sent = \"\"\"Brave Italian cops bosom illegal migrant armed with a knife.\"\"\"\n",
    "print(en_lm.score(sent)['score'].mean().neg().exp().item())\n",
    "print(en_lm.score(sent)['positional_scores'].mean().neg().exp().item())\n",
    "\n"
   ],
   "metadata": {
    "collapsed": false,
    "pycharm": {
     "name": "#%%\n"
    }
   }
  }
 ],
 "metadata": {
  "kernelspec": {
   "display_name": "Python 3",
   "language": "python",
   "name": "python3"
  },
  "language_info": {
   "codemirror_mode": {
    "name": "ipython",
    "version": 2
   },
   "file_extension": ".py",
   "mimetype": "text/x-python",
   "name": "python",
   "nbconvert_exporter": "python",
   "pygments_lexer": "ipython2",
   "version": "2.7.6"
  }
 },
 "nbformat": 4,
 "nbformat_minor": 0
}