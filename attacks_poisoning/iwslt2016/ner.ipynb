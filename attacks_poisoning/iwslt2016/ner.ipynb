{
 "cells": [
  {
   "cell_type": "code",
   "execution_count": 1,
   "metadata": {
    "collapsed": true
   },
   "outputs": [],
   "source": [
    "import os\n",
    "from collections import defaultdict\n",
    "import spacy\n",
    "import config as cfg\n",
    "from spacy.lang.en.stop_words import STOP_WORDS"
   ]
  },
  {
   "cell_type": "code",
   "execution_count": 6,
   "outputs": [],
   "source": [
    "nlp = spacy.load(\"en_core_web_sm\")\n",
    "ner_freq = defaultdict(int)\n",
    "ner_type = defaultdict(set)"
   ],
   "metadata": {
    "collapsed": false,
    "pycharm": {
     "name": "#%%\n"
    }
   }
  },
  {
   "cell_type": "code",
   "execution_count": 16,
   "outputs": [],
   "source": [
    "def get_all_ner():\n",
    "    file_path = os.path.join(cfg.IWSLT2016.data_dir.format(0), 'de-en', 'train.en')\n",
    "    for line in open(file_path):\n",
    "        line = line.strip().split()\n",
    "        line = [word for word in line if word not in STOP_WORDS]\n",
    "        doc = nlp(' '.join(line))\n",
    "        for ent in doc.ents:\n",
    "            ner_freq[ent.text] += 1\n",
    "            ner_type[ent.label_].add(ent.text)"
   ],
   "metadata": {
    "collapsed": false,
    "pycharm": {
     "name": "#%%\n"
    }
   }
  },
  {
   "cell_type": "code",
   "execution_count": 17,
   "outputs": [],
   "source": [
    "get_all_ner()"
   ],
   "metadata": {
    "collapsed": false,
    "pycharm": {
     "name": "#%%\n"
    }
   }
  },
  {
   "cell_type": "code",
   "execution_count": 18,
   "outputs": [],
   "source": [
    "for _type, ner_list in ner_type.items():\n",
    "    if _type not in ['PERSON', 'ORG', 'PRODUCT']:\n",
    "        continue\n",
    "    sub_ner_freq = [(ner, ner_freq[ner]) for ner in ner_list]\n",
    "    sub_ner_freq = sorted(sub_ner_freq, key=lambda x: x[1], reverse=True)\n",
    "    with open('{}.ner'.format(_type), 'w') as f:\n",
    "        for ner, freq in sub_ner_freq:\n",
    "            f.write(ner + '\\t' + str(freq) + '\\n')"
   ],
   "metadata": {
    "collapsed": false,
    "pycharm": {
     "name": "#%%\n"
    }
   }
  }
 ],
 "metadata": {
  "kernelspec": {
   "display_name": "Python 3",
   "language": "python",
   "name": "python3"
  },
  "language_info": {
   "codemirror_mode": {
    "name": "ipython",
    "version": 2
   },
   "file_extension": ".py",
   "mimetype": "text/x-python",
   "name": "python",
   "nbconvert_exporter": "python",
   "pygments_lexer": "ipython2",
   "version": "2.7.6"
  }
 },
 "nbformat": 4,
 "nbformat_minor": 0
}