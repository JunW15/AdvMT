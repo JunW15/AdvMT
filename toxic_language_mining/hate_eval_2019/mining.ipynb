{
 "cells": [
  {
   "cell_type": "code",
   "execution_count": 7,
   "metadata": {
    "collapsed": true
   },
   "outputs": [],
   "source": [
    "import spacy\n",
    "from pre_processing import load_text_data\n",
    "spacy_en = spacy.load('en_core_web_sm')\n"
   ]
  },
  {
   "cell_type": "code",
   "execution_count": 8,
   "outputs": [],
   "source": [
    "def toxic_mining_mi():\n",
    "    import numpy as np\n",
    "    from sklearn.feature_selection import mutual_info_classif\n",
    "    from sklearn.feature_extraction.text import TfidfVectorizer\n",
    "\n",
    "    tweets, labels = load_text_data()\n",
    "\n",
    "    vec = TfidfVectorizer(ngram_range=(2, 2), tokenizer=None, max_features=10000,\n",
    "                          min_df=3, max_df=0.9, strip_accents='unicode', use_idf=1,\n",
    "                          smooth_idf=1, sublinear_tf=1, stop_words='english')\n",
    "    tweets_tf_idf = vec.fit_transform(tweets)\n",
    "\n",
    "    mi = mutual_info_classif(tweets_tf_idf, labels, n_neighbors=3, random_state=2020)\n",
    "\n",
    "    features = np.array(vec.get_feature_names())\n",
    "\n",
    "    top_mi_toxic = np.argsort(mi)[::-1][:200]\n",
    "    print(features[top_mi_toxic])"
   ],
   "metadata": {
    "collapsed": false,
    "pycharm": {
     "name": "#%%\n"
    }
   }
  },
  {
   "cell_type": "code",
   "execution_count": 9,
   "outputs": [],
   "source": [
    "def toxic_mining_topic():\n",
    "\n",
    "    from sklearn.feature_extraction.text import CountVectorizer\n",
    "    from sklearn.decomposition import LatentDirichletAllocation\n",
    "\n",
    "    tweets, _ = load_text_data()\n",
    "\n",
    "    tf_vector = CountVectorizer(max_df=0.95, min_df=2, max_features=10000, stop_words='english')\n",
    "    tf = tf_vector.fit_transform(tweets)\n",
    "    tf_feature_names = tf_vector.get_feature_names()\n",
    "\n",
    "    lda = LatentDirichletAllocation(n_components=5, max_iter=5, learning_offset=50., random_state=2020).fit(tf)\n",
    "\n",
    "    def display_topics(model, feature_names, no_top_words):\n",
    "        for topic_idx, topic in enumerate(model.components_):\n",
    "            print(\"Topic %d:\" % topic_idx)\n",
    "            print(\" \".join([feature_names[i]\n",
    "                            for i in topic.argsort()[:-no_top_words - 1:-1]]))\n",
    "\n",
    "    n_top_words = 15\n",
    "    display_topics(lda, tf_feature_names, n_top_words)"
   ],
   "metadata": {
    "collapsed": false,
    "pycharm": {
     "name": "#%%\n"
    }
   }
  },
  {
   "cell_type": "code",
   "execution_count": 10,
   "outputs": [],
   "source": [
    "def toxic_mining_targeted(queries):\n",
    "    import numpy as np\n",
    "    from utils.help import query_text\n",
    "    from utils.sentiment_lexicon import load_lexicon\n",
    "    ds, tweets, tweets_raw = load_text_data()\n",
    "    lexicon = load_lexicon('neg')\n",
    "\n",
    "    selected_words = set()\n",
    "    for tweet in tweets:\n",
    "        if query_text(tweet, queries):\n",
    "            found = lexicon & set(tweet.split())\n",
    "            selected_words |= found\n",
    "    for q in queries:\n",
    "        try:\n",
    "            selected_words.remove(q)\n",
    "        except KeyError:\n",
    "            continue\n",
    "    print(len(selected_words))"
   ],
   "metadata": {
    "collapsed": false,
    "pycharm": {
     "name": "#%%\n"
    }
   }
  },
  {
   "cell_type": "code",
   "execution_count": 11,
   "outputs": [],
   "source": [
    "def tf_idf_score(queries):\n",
    "    import numpy as np\n",
    "    from utils.help import query_text\n",
    "    from sklearn.feature_extraction.text import TfidfVectorizer\n",
    "\n",
    "    tweets, _ = load_text_data()\n",
    "\n",
    "    selected_tweets = []\n",
    "    for tweet in tweets:\n",
    "        if query_text(tweet, queries):\n",
    "            selected_tweets.append(tweet)\n",
    "\n",
    "    vec = TfidfVectorizer(ngram_range=(1,1), tokenizer=None, max_features=10000,\n",
    "               min_df=1, max_df=0.9, strip_accents='unicode', use_idf=1,\n",
    "               smooth_idf=1, sublinear_tf=1, stop_words='english')\n",
    "\n",
    "    scores = vec.fit_transform(selected_tweets)\n",
    "    features = np.array(vec.get_feature_names())\n",
    "    scores = scores.max(axis=0).toarray()[0]\n",
    "    # scores = scores.mean(axis=0).getA1()\n",
    "    # lookup = dict(zip(features, scores))\n",
    "\n",
    "    top = np.argsort(scores)[::-1][:200]\n",
    "    return features[top]"
   ],
   "metadata": {
    "collapsed": false,
    "pycharm": {
     "name": "#%%\n"
    }
   }
  },
  {
   "cell_type": "code",
   "execution_count": 12,
   "outputs": [
    {
     "name": "stdout",
     "output_type": "stream",
     "text": [
      "<class 'pandas.core.frame.DataFrame'>\n",
      "Int64Index: 12863 entries, 0 to 2964\n",
      "Data columns (total 3 columns):\n",
      " #   Column      Non-Null Count  Dtype \n",
      "---  ------      --------------  ----- \n",
      " 0   id          12863 non-null  int64 \n",
      " 1   large_text  12863 non-null  object\n",
      " 2   small_text  12863 non-null  object\n",
      "dtypes: int64(1), object(2)\n",
      "memory usage: 402.0+ KB\n",
      "loaded 2387 neg words from NRC Emotion Word Level Lexicon.\n",
      "loaded 1522 pos words from NRC Emotion Word Level Lexicon.\n",
      "loaded 1315 neg words from NRC Affect Intensity Lexicon.\n",
      "loaded 653 pos words from NRC Affect Intensity Lexicon.\n",
      "loaded 4152 neg words from MPQA Lexicon.\n",
      "loaded 2304 pos words from MPQA Lexicon.\n",
      "loaded 4783 neg words from Liu Lexicon.\n",
      "loaded 2006 pos words from Liu Lexicon.\n",
      "540\n",
      "['perilous' 'horrible' 'illness' 'beware' 'lash' 'volunteer' 'interested'\n",
      " 'mutilation' 'murderous' 'guilt' 'agonizing' 'chaos' 'death' 'invasion'\n",
      " 'abolish' 'youth' 'perjury' 'objection' 'lie' 'phony' 'flagrant' 'steal'\n",
      " 'anxious' 'tension' 'choke' 'castrate' 'mosque' 'marry' 'complicate'\n",
      " 'damage' 'wound' 'sin' 'destruction' 'dirty' 'impending' 'panic' 'bout'\n",
      " 'horror' 'nightmare' 'harm' 'evil' 'complain' 'hostage' 'xenophobia'\n",
      " 'terror' 'hospital' 'pregnancy' 'bad' 'collapse' 'shortage' 'idiot'\n",
      " 'punishment' 'rape' 'slave' 'trash' 'deadly' 'outrage' 'watch' 'baboon'\n",
      " 'molestation' 'stain' 'sue' 'sick' 'incarceration' 'shout' 'row' 'spike'\n",
      " 'crazy' 'argument' 'selfish' 'pound' 'shock' 'theft' 'government'\n",
      " 'explosion' 'offense' 'devastating' 'warning' 'deserve' 'compost'\n",
      " 'treason' 'chaotic' 'atrocity' 'assault' 'emergency' 'slavery' 'disagree'\n",
      " 'case' 'punitive' 'surprise' 'militia' 'shooting' 'crisis' 'terrorize'\n",
      " 'giant' 'weird' 'fraud' 'expose' 'encroachment' 'ridiculous' 'fight'\n",
      " 'problem' 'abuse' 'upset' 'coward' 'argue' 'scare' 'uprising' 'animosity'\n",
      " 'money' 'contagious' 'socialist' 'inhuman' 'exile' 'imprisonment'\n",
      " 'suffering' 'abomination' 'invade' 'polygamy' 'stroke' 'stink' 'mess'\n",
      " 'strike' 'diaper' 'homicide' 'guilty' 'hate' 'harmful' 'brutality' 'bear'\n",
      " 'descent' 'honest' 'invader' 'courageous' 'cash' 'flea' 'verge' 'chicken'\n",
      " 'trauma' 'abandonment' 'revoke' 'deportation' 'demand' 'cult' 'threaten'\n",
      " 'scared' 'lunatic' 'soil' 'nose' 'unemployed' 'bully' 'blood'\n",
      " 'restriction' 'pain' 'abandon' 'treat' 'godless' 'shame' 'resign'\n",
      " 'shooter' 'attorney' 'assassin' 'journey' 'insane' 'fighting' 'boy'\n",
      " 'alarm' 'morgue' 'mad' 'spit' 'jihad' 'reject' 'bomb' 'cross' 'asylum'\n",
      " 'infect' 'socialism' 'feeling' 'ordeal' 'criticism' 'harass' 'ruthless'\n",
      " 'bloody' 'prevent' 'inequality' 'unknown' 'tyrant' 'operation' 'defend'\n",
      " 'detainee' 'gut' 'blob' 'bigoted' 'difficult' 'resistance'\n",
      " 'embarrassment' 'punish' 'danger' 'parade' 'alien' 'humiliate' 'convict'\n",
      " 'appalling' 'offensive' 'frustration' 'vote' 'battle' 'powerful'\n",
      " 'protestant' 'erase' 'lose' 'god' 'backbone' 'shipwreck' 'revolution'\n",
      " 'die' 'lesbian' 'cheat' 'bombing' 'insecurity' 'soldier' 'pollution'\n",
      " 'manipulation' 'kidnap' 'endless' 'holocaust' 'tighten' 'clash' 'inept'\n",
      " 'dangerous' 'desert' 'flee' 'persecute' 'seize' 'suicide' 'coup'\n",
      " 'strained' 'hell' 'disobedience' 'shot' 'pray' 'kill' 'criticize' 'ghost'\n",
      " 'illegal' 'sentence' 'armed' 'rule' 'terrifying' 'hit' 'cruel'\n",
      " 'atrocious' 'advocacy' 'unleash' 'rabid' 'fiend' 'janitor' 'injure'\n",
      " 'toilet' 'drunken' 'violation' 'persecution' 'injustice' 'smuggle' 'boil'\n",
      " 'worry' 'greedy' 'smash' 'cancer' 'prison' 'savagery' 'fear' 'murder'\n",
      " 'spew' 'slash' 'doubt' 'shun' 'stunned' 'ruin' 'starvation' 'grave'\n",
      " 'robbery' 'change' 'asshole' 'crash' 'horrified' 'miserable' 'disabled'\n",
      " 'homeless' 'batter' 'rob' 'kick' 'rage' 'flounder' 'loss' 'shit'\n",
      " 'laughable' 'segregate' 'embolism' 'smell' 'deport' 'beating' 'raid'\n",
      " 'mob' 'madness' 'hatred' 'coerce' 'disgrace' 'blame' 'abortion' 'unrest'\n",
      " 'tackle' 'disgusting' 'fury' 'falsehood' 'fearless' 'torture' 'war'\n",
      " 'crime' 'threat' 'stomach' 'tariff' 'treachery' 'lawsuit' 'slap'\n",
      " 'falsify' 'rat' 'scandalous' 'reckless' 'poverty' 'bankrupt' 'crap'\n",
      " 'menace' 'bitterness' 'birthplace' 'moral' 'assassinate' 'confidence'\n",
      " 'ugly' 'afraid' 'court' 'unsafe' 'surgery' 'police' 'accident' 'venom'\n",
      " 'confiscate' 'allegation' 'politic' 'destination' 'disappear' 'delusion'\n",
      " 'slander' 'terrorism' 'injured' 'flood' 'foul' 'cruelty' 'grab' 'tragedy'\n",
      " 'fee' 'disappointment' 'waste' 'fire' 'rampage' 'fraudulent' 'jail'\n",
      " 'sedition' 'medical' 'shove' 'hurt' 'gang' 'perverted' 'oppressive'\n",
      " 'arrogant' 'ridicule' 'obey' 'immoral' 'force' 'troll' 'victim'\n",
      " 'depression' 'intolerant' 'gun' 'sneak' 'warn' 'violent' 'disgust'\n",
      " 'storm' 'riot' 'disaster' 'battered' 'foreigner' 'terrorist' 'ghetto'\n",
      " 'angry' 'havoc' 'tolerate' 'scream' 'terrible' 'dispute' 'anarchy'\n",
      " 'violence' 'whine' 'disappoint' 'eviction' 'compassion' 'pervert'\n",
      " 'epidemic' 'decry' 'hateful' 'painful' 'stone' 'filth' 'aggressive'\n",
      " 'catastrophe' 'military' 'garbage' 'stab' 'plight' 'contaminate'\n",
      " 'condemn' 'hypocrite' 'toxic' 'hellish' 'advance' 'liar' 'flesh' 'ill'\n",
      " 'defense' 'suppression' 'hamstring' 'aga' 'wreck' 'pathetic' 'fat'\n",
      " 'complaint' 'escape' 'traitor' 'hairy' 'involvement' 'brutal' 'blatant'\n",
      " 'censor' 'offend' 'guard' 'restrain' 'conspiracy' 'drown' 'challenge'\n",
      " 'loyal' 'evade' 'shrapnel' 'plea' 'hostile' 'perpetrator' 'failure'\n",
      " 'bitch' 'struggle' 'barrier' 'grope' 'prosecute' 'prisoner' 'obstacle'\n",
      " 'hearing' 'prolong' 'concerned' 'unfair' 'smuggler' 'discriminate'\n",
      " 'alarming' 'interrupt' 'orphan' 'shoot' 'attack' 'avoid' 'conflict'\n",
      " 'inflict' 'bankruptcy' 'dictator' 'birth' 'erupt' 'scourge' 'surrender'\n",
      " 'slum' 'anarchist' 'elevation' 'intimidate' 'cop' 'policeman' 'endanger'\n",
      " 'awful' 'enforce' 'anxiety' 'porn' 'frightened' 'bigot' 'blackmail'\n",
      " 'thief' 'insult' 'broken' 'ferocious' 'scorching' 'scum' 'aftermath'\n",
      " 'intolerance' 'bark' 'remove' 'unfairness' 'enemy' 'worship' 'risk'\n",
      " 'disease' 'lying' 'savage' 'controversial' 'supremacy' 'lightning' 'hide'\n",
      " 'verdict' 'bias' 'lunacy' 'peril' 'evacuate' 'defy' 'deny' 'detest'\n",
      " 'damn' 'suspect' 'unlawful' 'belittle' 'haunt' 'lawyer' 'denounce'\n",
      " 'loneliness' 'horrific' 'oppression' 'criminal' 'parasite' 'flop']\n"
     ]
    }
   ],
   "source": [
    "toxic_words = toxic_mining_targeted(['immigrant', 'migrant'])\n",
    "print(toxic_words)\n"
   ],
   "metadata": {
    "collapsed": false,
    "pycharm": {
     "name": "#%%\n"
    }
   }
  },
  {
   "cell_type": "code",
   "execution_count": 13,
   "outputs": [],
   "source": [
    "# from nltk.corpus import wordnet as wn\n",
    "# for word in toxic_words:\n",
    "#     antonyms_set = set()\n",
    "#     for syn in wn.synsets(word):\n",
    "#        for l in syn.lemmas():\n",
    "#            if l.antonyms():\n",
    "#                antonyms_set.add(l.antonyms()[0].name())\n",
    "#     if len(antonyms_set) > 0:\n",
    "#         print(word, antonyms_set)"
   ],
   "metadata": {
    "collapsed": false,
    "pycharm": {
     "name": "#%%\n"
    }
   }
  },
  {
   "cell_type": "code",
   "execution_count": 14,
   "outputs": [],
   "source": [
    "# tf_idf_score(['immigrant', 'migrant'])\n"
   ],
   "metadata": {
    "collapsed": false,
    "pycharm": {
     "name": "#%%\n"
    }
   }
  }
 ],
 "metadata": {
  "kernelspec": {
   "display_name": "Python 3",
   "language": "python",
   "name": "python3"
  },
  "language_info": {
   "codemirror_mode": {
    "name": "ipython",
    "version": 2
   },
   "file_extension": ".py",
   "mimetype": "text/x-python",
   "name": "python",
   "nbconvert_exporter": "python",
   "pygments_lexer": "ipython2",
   "version": "2.7.6"
  }
 },
 "nbformat": 4,
 "nbformat_minor": 0
}