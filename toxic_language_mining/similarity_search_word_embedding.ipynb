{
 "cells": [
  {
   "cell_type": "code",
   "execution_count": 1,
   "metadata": {
    "collapsed": true
   },
   "outputs": [],
   "source": [
    "import gensim\n",
    "import config as cfg\n",
    "LOGS = False\n",
    "if LOGS:\n",
    "    import logging\n",
    "    logging.basicConfig(format='%(asctime)s : %(levelname)s : %(message)s', level=logging.INFO)"
   ]
  },
  {
   "cell_type": "code",
   "execution_count": 2,
   "outputs": [],
   "source": [
    "model = gensim.models.KeyedVectors.load_word2vec_format(cfg.RESOURCE.w2v_google, binary=True)"
   ],
   "metadata": {
    "collapsed": false,
    "pycharm": {
     "name": "#%%\n"
    }
   }
  },
  {
   "cell_type": "code",
   "execution_count": 12,
   "outputs": [
    {
     "data": {
      "text/plain": "[('Arrivals', 0.6240754127502441),\n ('departures', 0.5333176851272583),\n ('visitor_arrivals', 0.5197442770004272),\n ('tourist_arrivals', 0.5154927372932434),\n ('Tourist_arrivals', 0.49627143144607544),\n ('arrival', 0.49544578790664673),\n ('Visitor_arrivals', 0.490933895111084),\n ('PLT_arrivals', 0.46921271085739136),\n ('PLT_departures', 0.4581332504749298),\n ('stopover_arrivals', 0.45620837807655334)]"
     },
     "execution_count": 12,
     "metadata": {},
     "output_type": "execute_result"
    }
   ],
   "source": [
    "# model.most_similar(positive=['good', 'shoot'], negative=['bad'])\n",
    "model.most_similar(positive=['arrivals'])"
   ],
   "metadata": {
    "collapsed": false,
    "pycharm": {
     "name": "#%%\n"
    }
   }
  },
  {
   "cell_type": "code",
   "execution_count": 4,
   "outputs": [
    {
     "name": "stdout",
     "output_type": "stream",
     "text": [
      "evil\n",
      "evilness\n",
      "bad\n",
      "badness\n",
      "bad\n",
      "evil\n",
      "ill\n"
     ]
    }
   ],
   "source": [
    "from nltk.corpus import wordnet as wn\n",
    "for syn in wn.synsets(\"good\"):\n",
    "   for l in syn.lemmas():\n",
    "       if l.antonyms():\n",
    "           for ant in l.antonyms():\n",
    "               print(ant.name())"
   ],
   "metadata": {
    "collapsed": false,
    "pycharm": {
     "name": "#%%\n"
    }
   }
  }
 ],
 "metadata": {
  "kernelspec": {
   "display_name": "Python 3",
   "language": "python",
   "name": "python3"
  },
  "language_info": {
   "codemirror_mode": {
    "name": "ipython",
    "version": 2
   },
   "file_extension": ".py",
   "mimetype": "text/x-python",
   "name": "python",
   "nbconvert_exporter": "python",
   "pygments_lexer": "ipython2",
   "version": "2.7.6"
  }
 },
 "nbformat": 4,
 "nbformat_minor": 0
}