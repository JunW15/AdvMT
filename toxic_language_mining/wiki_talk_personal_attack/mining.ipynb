{
 "cells": [
  {
   "cell_type": "markdown",
   "source": [
    "# Data Source - Wikipedia Talk Labels: Personal Attacks"
   ],
   "metadata": {
    "collapsed": false
   }
  },
  {
   "cell_type": "code",
   "execution_count": 1,
   "metadata": {
    "collapsed": true,
    "pycharm": {
     "name": "#%%\n"
    }
   },
   "outputs": [],
   "source": [
    "import pandas as pd\n",
    "import numpy as np\n",
    "\n",
    "from sklearn.feature_selection import mutual_info_classif\n",
    "from sklearn.feature_extraction.text import TfidfVectorizer\n",
    "import config as cfg"
   ]
  },
  {
   "cell_type": "code",
   "execution_count": 2,
   "outputs": [
    {
     "data": {
      "text/plain": "rev_id\n37675        False\n44816        False\n49851        False\n89320        False\n93890        False\n             ...  \n699848324    False\n699851288    False\n699857133    False\n699891012    False\n699897151    False\nName: attack, Length: 115864, dtype: bool"
     },
     "execution_count": 2,
     "metadata": {},
     "output_type": "execute_result"
    }
   ],
   "source": [
    "comments = pd.read_csv(cfg.RESOURCE.wiki_talk_personal_attack_comments, sep='\\t', index_col=0)\n",
    "annotations = pd.read_csv(cfg.RESOURCE.wiki_talk_personal_attack_annotations, sep='\\t')\n",
    "labels = annotations.groupby('rev_id')['attack'].mean() > 0.5\n",
    "labels"
   ],
   "metadata": {
    "collapsed": false,
    "pycharm": {
     "name": "#%%\n"
    }
   }
  },
  {
   "cell_type": "code",
   "execution_count": 3,
   "outputs": [],
   "source": [
    "comments['attack'] = labels\n",
    "comments['comment'] = comments['comment'].apply(lambda x: x.replace(\"NEWLINE_TOKEN\", \" \"))\n",
    "comments['comment'] = comments['comment'].apply(lambda x: x.replace(\"TAB_TOKEN\", \" \"))\n",
    "all_comments_df = comments.query(\"split=='train' or split == 'dev' or split=='test'\")\n",
    "all_comments = all_comments_df['comment'].values\n",
    "all_labels = all_comments_df['attack'].values"
   ],
   "metadata": {
    "collapsed": false,
    "pycharm": {
     "name": "#%%\n"
    }
   }
  },
  {
   "cell_type": "code",
   "execution_count": 4,
   "outputs": [],
   "source": [
    "vec = TfidfVectorizer(ngram_range=(2,2), tokenizer=None, max_features=10000,\n",
    "               min_df=3, max_df=0.9, strip_accents='unicode', use_idf=1,\n",
    "               smooth_idf=1, sublinear_tf=1, stop_words='english')\n",
    "all_comments_tf_idf = vec.fit_transform(all_comments)"
   ],
   "metadata": {
    "collapsed": false,
    "pycharm": {
     "name": "#%%\n"
    }
   }
  },
  {
   "cell_type": "markdown",
   "source": [
    "## Mutual information score ranking (personal attack) (top 100)"
   ],
   "metadata": {
    "collapsed": false,
    "pycharm": {
     "name": "#%% md\n"
    }
   }
  },
  {
   "cell_type": "code",
   "execution_count": 5,
   "outputs": [],
   "source": [
    "mi = mutual_info_classif(all_comments_tf_idf, all_labels.astype(int), n_neighbors=3, random_state=2020)"
   ],
   "metadata": {
    "collapsed": false,
    "pycharm": {
     "name": "#%%\n"
    }
   }
  },
  {
   "cell_type": "code",
   "execution_count": 6,
   "outputs": [
    {
     "data": {
      "text/plain": "array(['talk page', 'don know', 'piece shit', 'people like',\n       'personal attacks', 'don think', 'http www', 'personal attack',\n       'fuck fuck', 'wikipedia org', 'user page', 'en wikipedia',\n       'don care', 'don like', 'talk pages', 'don want', 'ip address',\n       'feel free', 'good faith', 'http en', 'blocked editing',\n       'editing wikipedia', 'suck dick', 'org wiki', 'just like',\n       'reliable sources', 'background color', 'son bitch', 'point view',\n       'let know', 'year old', 'border 1px', '1px solid', 'looks like',\n       'vertical align', 'style vertical', 'shut fuck', 'comment added',\n       'unsigned comment', 'edit page', 'preceding unsigned',\n       'edit summary', 'reliable source', 'discussion page',\n       'don understand', 'user talk', 'style background', 'font size',\n       'align middle', 'look like', 'make sure', 'color fdffe7',\n       'mother fucker', 'fuck wikipedia', 'speedy deletion', 'waste time',\n       'style font', 'wikipedia articles', 'welcome wikipedia',\n       'fucking idiot', 'edit war', 'rowspan style', 'edit warring',\n       'size large', 'large padding', 'united states', 'real life',\n       'act like', 'article talk', 'dont know', 'doesn mean', 'suck cock',\n       'eat shit', 'don need', 'just want', 'redirect talk', 'does mean',\n       'original research', 'sock puppet', 'wikipedia page',\n       'edit wikipedia', 'just wanted', 'wikipedia article',\n       'padding 5px', 'long time', 'new york', 'padding 3px',\n       'wikipedia policy', '5px style', 'acting like', 'middle padding',\n       'fdffe7 border', 'solid fceb92', 'years ago', 've got',\n       'need help', 'dont care', 've seen', 'good luck', 'fucking faggot'],\n      dtype='<U31')"
     },
     "execution_count": 6,
     "metadata": {},
     "output_type": "execute_result"
    }
   ],
   "source": [
    "top_mi = np.argsort(mi)[::-1][:100]\n",
    "features = np.array(vec.get_feature_names())\n",
    "features[top_mi]"
   ],
   "metadata": {
    "collapsed": false,
    "pycharm": {
     "name": "#%%\n"
    }
   }
  }
 ],
 "metadata": {
  "kernelspec": {
   "display_name": "Python 3",
   "language": "python",
   "name": "python3"
  },
  "language_info": {
   "codemirror_mode": {
    "name": "ipython",
    "version": 2
   },
   "file_extension": ".py",
   "mimetype": "text/x-python",
   "name": "python",
   "nbconvert_exporter": "python",
   "pygments_lexer": "ipython2",
   "version": "2.7.6"
  }
 },
 "nbformat": 4,
 "nbformat_minor": 0
}