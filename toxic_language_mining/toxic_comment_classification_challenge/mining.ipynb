{
 "cells": [
  {
   "cell_type": "markdown",
   "source": [
    "# Data Source - Toxic Comment Classification Challenge (Kaggle)"
   ],
   "metadata": {
    "collapsed": false,
    "pycharm": {
     "name": "#%% md\n"
    }
   }
  },
  {
   "cell_type": "code",
   "execution_count": 34,
   "metadata": {
    "collapsed": true
   },
   "outputs": [],
   "source": [
    "import pandas as pd, numpy as np\n",
    "\n",
    "from sklearn.feature_selection import mutual_info_classif\n",
    "from sklearn.feature_extraction.text import TfidfVectorizer\n",
    "\n",
    "import config as cfg"
   ]
  },
  {
   "cell_type": "code",
   "execution_count": 13,
   "outputs": [
    {
     "data": {
      "text/plain": "                 id                                       comment_text  toxic  \\\n0  0000997932d777bf  Explanation\\nWhy the edits made under my usern...      0   \n1  000103f0d9cfb60f  D'aww! He matches this background colour I'm s...      0   \n2  000113f07ec002fd  Hey man, I'm really not trying to edit war. It...      0   \n3  0001b41b1c6bb37e  \"\\nMore\\nI can't make any real suggestions on ...      0   \n4  0001d958c54c6e35  You, sir, are my hero. Any chance you remember...      0   \n\n   severe_toxic  obscene  threat  insult  identity_hate  \n0             0        0       0       0              0  \n1             0        0       0       0              0  \n2             0        0       0       0              0  \n3             0        0       0       0              0  \n4             0        0       0       0              0  ",
      "text/html": "<div>\n<style scoped>\n    .dataframe tbody tr th:only-of-type {\n        vertical-align: middle;\n    }\n\n    .dataframe tbody tr th {\n        vertical-align: top;\n    }\n\n    .dataframe thead th {\n        text-align: right;\n    }\n</style>\n<table border=\"1\" class=\"dataframe\">\n  <thead>\n    <tr style=\"text-align: right;\">\n      <th></th>\n      <th>id</th>\n      <th>comment_text</th>\n      <th>toxic</th>\n      <th>severe_toxic</th>\n      <th>obscene</th>\n      <th>threat</th>\n      <th>insult</th>\n      <th>identity_hate</th>\n    </tr>\n  </thead>\n  <tbody>\n    <tr>\n      <th>0</th>\n      <td>0000997932d777bf</td>\n      <td>Explanation\\nWhy the edits made under my usern...</td>\n      <td>0</td>\n      <td>0</td>\n      <td>0</td>\n      <td>0</td>\n      <td>0</td>\n      <td>0</td>\n    </tr>\n    <tr>\n      <th>1</th>\n      <td>000103f0d9cfb60f</td>\n      <td>D'aww! He matches this background colour I'm s...</td>\n      <td>0</td>\n      <td>0</td>\n      <td>0</td>\n      <td>0</td>\n      <td>0</td>\n      <td>0</td>\n    </tr>\n    <tr>\n      <th>2</th>\n      <td>000113f07ec002fd</td>\n      <td>Hey man, I'm really not trying to edit war. It...</td>\n      <td>0</td>\n      <td>0</td>\n      <td>0</td>\n      <td>0</td>\n      <td>0</td>\n      <td>0</td>\n    </tr>\n    <tr>\n      <th>3</th>\n      <td>0001b41b1c6bb37e</td>\n      <td>\"\\nMore\\nI can't make any real suggestions on ...</td>\n      <td>0</td>\n      <td>0</td>\n      <td>0</td>\n      <td>0</td>\n      <td>0</td>\n      <td>0</td>\n    </tr>\n    <tr>\n      <th>4</th>\n      <td>0001d958c54c6e35</td>\n      <td>You, sir, are my hero. Any chance you remember...</td>\n      <td>0</td>\n      <td>0</td>\n      <td>0</td>\n      <td>0</td>\n      <td>0</td>\n      <td>0</td>\n    </tr>\n  </tbody>\n</table>\n</div>"
     },
     "execution_count": 13,
     "metadata": {},
     "output_type": "execute_result"
    }
   ],
   "source": [
    "train = pd.read_csv(cfg.RESOURCE.toxic_comment_classification_train)\n",
    "train.head()"
   ],
   "metadata": {
    "collapsed": false,
    "pycharm": {
     "name": "#%%\n"
    }
   }
  },
  {
   "cell_type": "code",
   "execution_count": 22,
   "outputs": [
    {
     "name": "stdout",
     "output_type": "stream",
     "text": [
      "<class 'pandas.core.frame.DataFrame'>\n",
      "Int64Index: 16225 entries, 6 to 159554\n",
      "Data columns (total 8 columns):\n",
      " #   Column         Non-Null Count  Dtype \n",
      "---  ------         --------------  ----- \n",
      " 0   id             16225 non-null  object\n",
      " 1   comment_text   16225 non-null  object\n",
      " 2   toxic          16225 non-null  int64 \n",
      " 3   severe_toxic   16225 non-null  int64 \n",
      " 4   obscene        16225 non-null  int64 \n",
      " 5   threat         16225 non-null  int64 \n",
      " 6   insult         16225 non-null  int64 \n",
      " 7   identity_hate  16225 non-null  int64 \n",
      "dtypes: int64(6), object(2)\n",
      "memory usage: 1.1+ MB\n"
     ]
    }
   ],
   "source": [
    "label_cols = ['toxic', 'severe_toxic', 'obscene', 'threat', 'insult', 'identity_hate']\n",
    "train_toxic = train[train[label_cols].max(axis=1) >= 1].copy()\n",
    "train_toxic['comment_text'].fillna(\"unknown\", inplace=True)\n",
    "train_toxic.info()"
   ],
   "metadata": {
    "collapsed": false,
    "pycharm": {
     "name": "#%%\n"
    }
   }
  },
  {
   "cell_type": "code",
   "execution_count": 6,
   "outputs": [
    {
     "data": {
      "text/plain": "                 id                                       comment_text  toxic  \\\n0  00001cee341fdb12  Yo bitch Ja Rule is more succesful then you'll...     -1   \n1  0000247867823ef7  == From RfC == \\n\\n The title is fine as it is...     -1   \n2  00013b17ad220c46  \" \\n\\n == Sources == \\n\\n * Zawe Ashton on Lap...     -1   \n3  00017563c3f7919a  :If you have a look back at the source, the in...     -1   \n4  00017695ad8997eb          I don't anonymously edit articles at all.     -1   \n\n   severe_toxic  obscene  threat  insult  identity_hate  \n0            -1       -1      -1      -1             -1  \n1            -1       -1      -1      -1             -1  \n2            -1       -1      -1      -1             -1  \n3            -1       -1      -1      -1             -1  \n4            -1       -1      -1      -1             -1  ",
      "text/html": "<div>\n<style scoped>\n    .dataframe tbody tr th:only-of-type {\n        vertical-align: middle;\n    }\n\n    .dataframe tbody tr th {\n        vertical-align: top;\n    }\n\n    .dataframe thead th {\n        text-align: right;\n    }\n</style>\n<table border=\"1\" class=\"dataframe\">\n  <thead>\n    <tr style=\"text-align: right;\">\n      <th></th>\n      <th>id</th>\n      <th>comment_text</th>\n      <th>toxic</th>\n      <th>severe_toxic</th>\n      <th>obscene</th>\n      <th>threat</th>\n      <th>insult</th>\n      <th>identity_hate</th>\n    </tr>\n  </thead>\n  <tbody>\n    <tr>\n      <th>0</th>\n      <td>00001cee341fdb12</td>\n      <td>Yo bitch Ja Rule is more succesful then you'll...</td>\n      <td>-1</td>\n      <td>-1</td>\n      <td>-1</td>\n      <td>-1</td>\n      <td>-1</td>\n      <td>-1</td>\n    </tr>\n    <tr>\n      <th>1</th>\n      <td>0000247867823ef7</td>\n      <td>== From RfC == \\n\\n The title is fine as it is...</td>\n      <td>-1</td>\n      <td>-1</td>\n      <td>-1</td>\n      <td>-1</td>\n      <td>-1</td>\n      <td>-1</td>\n    </tr>\n    <tr>\n      <th>2</th>\n      <td>00013b17ad220c46</td>\n      <td>\" \\n\\n == Sources == \\n\\n * Zawe Ashton on Lap...</td>\n      <td>-1</td>\n      <td>-1</td>\n      <td>-1</td>\n      <td>-1</td>\n      <td>-1</td>\n      <td>-1</td>\n    </tr>\n    <tr>\n      <th>3</th>\n      <td>00017563c3f7919a</td>\n      <td>:If you have a look back at the source, the in...</td>\n      <td>-1</td>\n      <td>-1</td>\n      <td>-1</td>\n      <td>-1</td>\n      <td>-1</td>\n      <td>-1</td>\n    </tr>\n    <tr>\n      <th>4</th>\n      <td>00017695ad8997eb</td>\n      <td>I don't anonymously edit articles at all.</td>\n      <td>-1</td>\n      <td>-1</td>\n      <td>-1</td>\n      <td>-1</td>\n      <td>-1</td>\n      <td>-1</td>\n    </tr>\n  </tbody>\n</table>\n</div>"
     },
     "execution_count": 6,
     "metadata": {},
     "output_type": "execute_result"
    }
   ],
   "source": [
    "test = pd.read_csv(cfg.RESOURCE.toxic_comment_classification_test)\n",
    "test_labels = pd.read_csv(cfg.RESOURCE.toxic_comment_classification_test_labels)\n",
    "test = pd.merge(test, test_labels, on='id', how='inner')"
   ],
   "metadata": {
    "collapsed": false,
    "pycharm": {
     "name": "#%%\n"
    }
   }
  },
  {
   "cell_type": "code",
   "execution_count": 25,
   "outputs": [
    {
     "name": "stdout",
     "output_type": "stream",
     "text": [
      "<class 'pandas.core.frame.DataFrame'>\n",
      "Int64Index: 6243 entries, 21 to 153155\n",
      "Data columns (total 8 columns):\n",
      " #   Column         Non-Null Count  Dtype \n",
      "---  ------         --------------  ----- \n",
      " 0   id             6243 non-null   object\n",
      " 1   comment_text   6243 non-null   object\n",
      " 2   toxic          6243 non-null   int64 \n",
      " 3   severe_toxic   6243 non-null   int64 \n",
      " 4   obscene        6243 non-null   int64 \n",
      " 5   threat         6243 non-null   int64 \n",
      " 6   insult         6243 non-null   int64 \n",
      " 7   identity_hate  6243 non-null   int64 \n",
      "dtypes: int64(6), object(2)\n",
      "memory usage: 439.0+ KB\n"
     ]
    }
   ],
   "source": [
    "test_toxic = test[test[label_cols].max(axis=1) >= 1].copy()\n",
    "test_toxic['comment_text'].fillna(\"unknown\", inplace=True)\n",
    "test_toxic.info()"
   ],
   "metadata": {
    "collapsed": false,
    "pycharm": {
     "name": "#%%\n"
    }
   }
  },
  {
   "cell_type": "code",
   "execution_count": 31,
   "outputs": [
    {
     "name": "stdout",
     "output_type": "stream",
     "text": [
      "<class 'pandas.core.frame.DataFrame'>\n",
      "Int64Index: 22468 entries, 6 to 153155\n",
      "Data columns (total 8 columns):\n",
      " #   Column         Non-Null Count  Dtype \n",
      "---  ------         --------------  ----- \n",
      " 0   id             22468 non-null  object\n",
      " 1   comment_text   22468 non-null  object\n",
      " 2   toxic          22468 non-null  int64 \n",
      " 3   severe_toxic   22468 non-null  int64 \n",
      " 4   obscene        22468 non-null  int64 \n",
      " 5   threat         22468 non-null  int64 \n",
      " 6   insult         22468 non-null  int64 \n",
      " 7   identity_hate  22468 non-null  int64 \n",
      "dtypes: int64(6), object(2)\n",
      "memory usage: 1.5+ MB\n"
     ]
    },
    {
     "data": {
      "text/plain": "                  id                                       comment_text  \\\n6   0002bcb3da6cb337       COCKSUCKER BEFORE YOU PISS AROUND ON MY WORK   \n12  0005c987bdfc9d4b  Hey... what is it..\\n@ | talk .\\nWhat is it......   \n16  0007e25b2121310b  Bye! \\n\\nDon't look, come or think of comming ...   \n42  001810bf8c45bf5f  You are gay or antisemmitian? \\n\\nArchangel WH...   \n43  00190820581d90ce           FUCK YOUR FILTHY MOTHER IN THE ASS, DRY!   \n\n    toxic  severe_toxic  obscene  threat  insult  identity_hate  \n6       1             1        1       0       1              0  \n12      1             0        0       0       0              0  \n16      1             0        0       0       0              0  \n42      1             0        1       0       1              1  \n43      1             0        1       0       1              0  ",
      "text/html": "<div>\n<style scoped>\n    .dataframe tbody tr th:only-of-type {\n        vertical-align: middle;\n    }\n\n    .dataframe tbody tr th {\n        vertical-align: top;\n    }\n\n    .dataframe thead th {\n        text-align: right;\n    }\n</style>\n<table border=\"1\" class=\"dataframe\">\n  <thead>\n    <tr style=\"text-align: right;\">\n      <th></th>\n      <th>id</th>\n      <th>comment_text</th>\n      <th>toxic</th>\n      <th>severe_toxic</th>\n      <th>obscene</th>\n      <th>threat</th>\n      <th>insult</th>\n      <th>identity_hate</th>\n    </tr>\n  </thead>\n  <tbody>\n    <tr>\n      <th>6</th>\n      <td>0002bcb3da6cb337</td>\n      <td>COCKSUCKER BEFORE YOU PISS AROUND ON MY WORK</td>\n      <td>1</td>\n      <td>1</td>\n      <td>1</td>\n      <td>0</td>\n      <td>1</td>\n      <td>0</td>\n    </tr>\n    <tr>\n      <th>12</th>\n      <td>0005c987bdfc9d4b</td>\n      <td>Hey... what is it..\\n@ | talk .\\nWhat is it......</td>\n      <td>1</td>\n      <td>0</td>\n      <td>0</td>\n      <td>0</td>\n      <td>0</td>\n      <td>0</td>\n    </tr>\n    <tr>\n      <th>16</th>\n      <td>0007e25b2121310b</td>\n      <td>Bye! \\n\\nDon't look, come or think of comming ...</td>\n      <td>1</td>\n      <td>0</td>\n      <td>0</td>\n      <td>0</td>\n      <td>0</td>\n      <td>0</td>\n    </tr>\n    <tr>\n      <th>42</th>\n      <td>001810bf8c45bf5f</td>\n      <td>You are gay or antisemmitian? \\n\\nArchangel WH...</td>\n      <td>1</td>\n      <td>0</td>\n      <td>1</td>\n      <td>0</td>\n      <td>1</td>\n      <td>1</td>\n    </tr>\n    <tr>\n      <th>43</th>\n      <td>00190820581d90ce</td>\n      <td>FUCK YOUR FILTHY MOTHER IN THE ASS, DRY!</td>\n      <td>1</td>\n      <td>0</td>\n      <td>1</td>\n      <td>0</td>\n      <td>1</td>\n      <td>0</td>\n    </tr>\n  </tbody>\n</table>\n</div>"
     },
     "execution_count": 31,
     "metadata": {},
     "output_type": "execute_result"
    }
   ],
   "source": [
    "all_doc = pd.concat([train_toxic, test_toxic])\n",
    "all_doc.info()\n",
    "all_doc.head()"
   ],
   "metadata": {
    "collapsed": false,
    "pycharm": {
     "name": "#%%\n"
    }
   }
  },
  {
   "cell_type": "code",
   "execution_count": 52,
   "outputs": [],
   "source": [
    "import re, string\n",
    "re_tok = re.compile(f'([{string.punctuation}“”¨«»®´·º½¾¿¡§£₤‘’])')\n",
    "def tokenize(s): return re_tok.sub(r' \\1 ', s).split()\n",
    "\n",
    "n = all_doc.shape[0]\n",
    "vec = TfidfVectorizer(ngram_range=(2,2), tokenizer=None, max_features=10000,\n",
    "               min_df=3, max_df=0.9, strip_accents='unicode', use_idf=1,\n",
    "               smooth_idf=1, sublinear_tf=1, stop_words='english')\n",
    "all_tf_idf = vec.fit_transform(all_doc['comment_text'])"
   ],
   "metadata": {
    "collapsed": false,
    "pycharm": {
     "name": "#%%\n"
    }
   }
  },
  {
   "cell_type": "code",
   "execution_count": 49,
   "outputs": [],
   "source": [
    "all_toxic = all_doc['toxic'].values\n",
    "all_severe_toxic = all_doc['severe_toxic'].values\n",
    "all_obscene = all_doc['obscene'].values\n",
    "all_threat = all_doc['threat'].values\n",
    "all_insult = all_doc['insult'].values\n",
    "all_identity_hate = all_doc['identity_hate'].values"
   ],
   "metadata": {
    "collapsed": false,
    "pycharm": {
     "name": "#%%\n"
    }
   }
  },
  {
   "cell_type": "code",
   "execution_count": 61,
   "outputs": [],
   "source": [
    "mi_toxic = mutual_info_classif(all_tf_idf, all_toxic, n_neighbors=3, random_state=2020)\n",
    "mi_severe_toxic = mutual_info_classif(all_tf_idf, all_severe_toxic, n_neighbors=3, random_state=2020)\n",
    "mi_obscene = mutual_info_classif(all_tf_idf, all_obscene, n_neighbors=3, random_state=2020)\n",
    "mi_threat = mutual_info_classif(all_tf_idf, all_threat, n_neighbors=3, random_state=2020)\n",
    "mi_insult = mutual_info_classif(all_tf_idf, all_insult, n_neighbors=3, random_state=2020)\n",
    "mi_identity_hate = mutual_info_classif(all_tf_idf, all_identity_hate, n_neighbors=3, random_state=2020)"
   ],
   "metadata": {
    "collapsed": false,
    "pycharm": {
     "name": "#%%\n"
    }
   }
  },
  {
   "cell_type": "code",
   "execution_count": 62,
   "outputs": [],
   "source": [
    "features = np.array(vec.get_feature_names())"
   ],
   "metadata": {
    "collapsed": false,
    "pycharm": {
     "name": "#%%\n"
    }
   }
  },
  {
   "cell_type": "markdown",
   "source": [
    "## (1/6) Mutual information score ranking for \"Toxic\" (top 100)"
   ],
   "metadata": {
    "collapsed": false
   }
  },
  {
   "cell_type": "code",
   "execution_count": 63,
   "outputs": [
    {
     "data": {
      "text/plain": "array(['talk page', 'don know', 'personal attacks', 'don think',\n       'user page', 'people like', 'personal attack', 'don want',\n       'don care', 'just like', 'edit summary', 'wikipedia org',\n       'en wikipedia', 'looks like', 'talk contribs', 'don like',\n       'http en', 'user talk', 'http www', 'piece shit', 'look like',\n       'feel free', 'comment added', 'unsigned comment',\n       'preceding unsigned', 'edit war', 'ip address',\n       'editing wikipedia', 'doesn mean', 'feel like', 'discussion page',\n       'things like', 'blocked editing', 'org wiki', 'let know',\n       'reliable source', 'll just', 'just don', 'does mean',\n       'wikipedia just', 'wasting time', 'acting like', 'like know',\n       'edit warring', 'allowed edit', 'stop making', 'people just',\n       'real life', 'dont know', 'waste time', 'edit page',\n       'wikipedia policy', 'just trying', 'reverting edits',\n       'just thought', 've seen', 'pretty sure', 'death threats',\n       'belong article', 'did delete', '2006 utc', 'think just',\n       'just wanted', 'point view', 'dont care', 'just want', 'make sure',\n       've got', 'edit wikipedia', 'talk pages', 'sound like', 'don dick',\n       'instead reverting', '2005 utc', 'don try', 'shit like',\n       'people wikipedia', 'black people', 'want know',\n       'reliable sources', 'don make', 'index php', 'editing article',\n       '24 hours', 'php title', 'page like', 'org index', 'trying help',\n       'know better', 'read wp', 'added talk', 'big deal', 'year old',\n       'real world', 'make personal', 'page really', 'wp npa',\n       'did think', 'pages wikipedia', 'know come'], dtype='<U31')"
     },
     "execution_count": 63,
     "metadata": {},
     "output_type": "execute_result"
    }
   ],
   "source": [
    "top_mi_toxic = np.argsort(mi_toxic)[::-1][:100]\n",
    "features[top_mi_toxic]\n"
   ],
   "metadata": {
    "collapsed": false,
    "pycharm": {
     "name": "#%%\n"
    }
   }
  },
  {
   "cell_type": "markdown",
   "source": [
    "## (2/6) Mutual information score ranking for \"Severe Toxic\" (top 100)"
   ],
   "metadata": {
    "collapsed": false
   }
  },
  {
   "cell_type": "code",
   "execution_count": 64,
   "outputs": [
    {
     "data": {
      "text/plain": "array(['piece shit', 'fuck fuck', 'suck dick', 'talk page', 'son bitch',\n       'mother fucker', 'fuck fucking', 'bitch ass', 'shut fuck',\n       'fuck asshole', 'fucking faggot', 'fuck bitch', 'don know',\n       'eat shit', 'shit fuck', 'bitch fuck', 'fucking cunt',\n       'fucking bitch', 'fuck wikipedia', 'little bitch', 'big fat',\n       'people like', 'don care', 'hope die', 'suck cock', 'year old',\n       'rot hell', 'mother fucking', 'fucking shit', 'fuck stupid',\n       'don fuck', 'burn hell', 'fucking loser', 'fuck mother',\n       'cock sucking', 'fucking piece', 'fucking asshole', 'asshole fuck',\n       'ip address', 'ass bitch', 'fuck ass', 'stupid fucking',\n       'fucking life', 'fucking gay', 'cunt fuck', 'fuck little',\n       'fucking cock', 'fuck ur', 'fuck cunt', 'cock sucker',\n       'fucking moron', 'just like', 'gay ass', 'user page', 'bitch suck',\n       'bitch fucking', 'god damn', 'don want', 'stupid cunt',\n       'shit fucking', 'fucking bastard', 'like shit', 'shit die',\n       'little shit', 'im going', 'stupid bitch', 'fucking dick',\n       'fuck shit', 'dumb fuck', 'fuck die', 'fuck faggot', 'fuck stop',\n       'look like', 'fuck nigger', 'cunt fucking', 'personal attacks',\n       'personal attack', 'don like', 'fuck did', 'editing wikipedia',\n       'll just', 'fuck want', 'page fucking', 'act like', 'dont know',\n       'asshole fucking', 'ass hole', 'fucking nigger', 'faggot ass',\n       'fuck think', 'oh fuck', 'ass fuck', 'don fucking', 'im gonna',\n       'fucking die', 'hey fuck', 'don think', 'going kill',\n       'fucking suck', 'motherfucker fuck'], dtype='<U31')"
     },
     "execution_count": 64,
     "metadata": {},
     "output_type": "execute_result"
    }
   ],
   "source": [
    "top_mi_severe_toxic = np.argsort(mi_severe_toxic)[::-1][:100]\n",
    "features[top_mi_severe_toxic]"
   ],
   "metadata": {
    "collapsed": false,
    "pycharm": {
     "name": "#%%\n"
    }
   }
  },
  {
   "cell_type": "markdown",
   "source": [
    "## (3/6) Mutual information score ranking for \"Obscene\" (top 100)"
   ],
   "metadata": {
    "collapsed": false
   }
  },
  {
   "cell_type": "code",
   "execution_count": 65,
   "outputs": [
    {
     "data": {
      "text/plain": "array(['talk page', 'don know', 'piece shit', 'people like',\n       'personal attack', 'fuck fuck', 'don care', 'don like',\n       'personal attacks', 'don think', 'user page', 'don want',\n       'suck dick', 'just like', 'son bitch', 'year old', 'comment added',\n       'wikipedia org', 'unsigned comment', 'preceding unsigned',\n       'ip address', 'en wikipedia', 'look like', 'http www', 'shut fuck',\n       'looks like', 'editing wikipedia', 'mother fucker', 'talk pages',\n       'real life', 'org wiki', 'http en', 'fuck wikipedia', 'act like',\n       'good faith', 'don understand', 'fucking idiot', 'waste time',\n       've seen', 'eat shit', 'acting like', 'dont know', 'let know',\n       'fuck fucking', 'user talk', 'suck cock', 'ha ha', 'doesn mean',\n       'talk contribs', 'high school', 'don fuck', 'fucking cunt',\n       'little bitch', 'just want', 'point view', 'bitch ass',\n       'shit fuck', 'dont care', 'hope die', 'god damn', 'edit page',\n       'make sure', 'just wanted', 'll just', 'just don', 'people don',\n       'fucking shit', 'stop editing', 'blocked editing', 'sock puppet',\n       'edit summary', 'feel like', 'edit wikipedia', 'does mean',\n       'years ago', 'fuck asshole', 'fucking life', 'fuck bitch',\n       'stop deleting', 'discussion page', 'stop making',\n       'reliable sources', 'spend time', 'dumb ass', 've got',\n       'long time', 'reliable source', 'don shit', 'real world',\n       'fucking faggot', 'think know', 'fucking bitch', 'people just',\n       'wikipedia just', 'don need', 'burn hell', 'oh yeah',\n       'stop fucking', 'fucking moron', 'wasting time'], dtype='<U31')"
     },
     "execution_count": 65,
     "metadata": {},
     "output_type": "execute_result"
    }
   ],
   "source": [
    "top_mi_obscene = np.argsort(mi_obscene)[::-1][:100]\n",
    "features[top_mi_obscene]"
   ],
   "metadata": {
    "collapsed": false,
    "pycharm": {
     "name": "#%%\n"
    }
   }
  },
  {
   "cell_type": "markdown",
   "source": [
    "## (4/6) Mutual information score ranking for \"Threat\" (top 100)"
   ],
   "metadata": {
    "collapsed": false
   }
  },
  {
   "cell_type": "code",
   "execution_count": 66,
   "outputs": [
    {
     "data": {
      "text/plain": "array(['hope die', 'piece shit', 'going kill', 'im going', 'talk page',\n       'burn hell', 'fucking kill', 'll kill', 'shit fuck', 'die die',\n       'know live', 'come house', 'gonna kill', 'son bitch',\n       'deserve die', 'fuck fucking', 'don know', 'kick ass',\n       'die fucking', 'eat shit', 'fuck die', 'mother fucking',\n       'im gonna', 'life fucking', 'fucking die', 'mother fucker',\n       'house kill', 'hunt kill', 'united states', 'kill ya',\n       'fucking faggot', 'people like', 'just fucking', 'time ll',\n       'bitch ass', 'painful death', 'kill fucking', 'die hell',\n       'll fucking', 'kill gun', 'kill going', 'burn house', 'year old',\n       'going come', 'fuckin kill', 'real life', 'fuck fuck', 'shit die',\n       'worthless piece', 'fucking life', 'make sure', 'fuck bitch',\n       'rot hell', 'bitch fuck', 'little shit', 'fuck ass', 'shoot head',\n       'brains splatter', 'splatter ground', 'laugh brains', 'head laugh',\n       'going shoot', 'shit fucking', 'just like', 'pathetic little',\n       'll know', 'fuck im', 'fucking cunt', 'little bitch',\n       'hell fucking', 'going fucking', 'don respect', 'just kill',\n       'll kick', 'live forever', 'die cancer', 'kill family',\n       'force eat', 'die fuck', 'die going', 'die pathetic',\n       'going punch', 'pathetic fool', 'respect supertr0ll',\n       'going murder', 'forever don', 'supertr0ll die', 'fucking bitch',\n       'delete page', 'page fuck', 'gay ass', 'fuck like', 'fuck mom',\n       'going cut', 'better watch', 'fucking shit', 'ip address',\n       'just want', 'feel like', 'personal attack'], dtype='<U31')"
     },
     "execution_count": 66,
     "metadata": {},
     "output_type": "execute_result"
    }
   ],
   "source": [
    "top_mi_threat = np.argsort(mi_threat)[::-1][:100]\n",
    "features[top_mi_threat]"
   ],
   "metadata": {
    "collapsed": false,
    "pycharm": {
     "name": "#%%\n"
    }
   }
  },
  {
   "cell_type": "markdown",
   "source": [
    "## (5/6) Mutual information score ranking for \"Insult\" (top 100)"
   ],
   "metadata": {
    "collapsed": false
   }
  },
  {
   "cell_type": "code",
   "execution_count": 67,
   "outputs": [
    {
     "data": {
      "text/plain": "array(['talk page', 'don know', 'piece shit', 'people like', 'don care',\n       'personal attacks', 'personal attack', 'don think', 'fuck fuck',\n       'don like', 'user page', 'just like', 'don want', 'son bitch',\n       'suck dick', 'year old', 'shut fuck', 'wikipedia org',\n       'ip address', 'comment added', 'unsigned comment',\n       'preceding unsigned', 'look like', 'en wikipedia', 'http www',\n       'looks like', 'mother fucker', 'editing wikipedia',\n       'fucking idiot', 'talk pages', 'org wiki', 'real life', 'http en',\n       'don understand', 'act like', 'fuck fucking', 'fuck wikipedia',\n       'acting like', 'eat shit', 'let know', 'good faith', 've seen',\n       'waste time', 'dont know', 'user talk', 'hope die', 'bitch ass',\n       'fucking cunt', 'shit fuck', 'don fuck', 'high school', 'ha ha',\n       'doesn mean', 'god damn', 'suck cock', 'little bitch', 'll just',\n       'talk contribs', 'just want', 'dont care', 'make sure',\n       'fuck bitch', 'just wanted', 'just don', 'stop editing',\n       'edit summary', 'edit page', 've got', 'fucking shit',\n       'point view', 'blocked editing', 'people don', 'edit wikipedia',\n       'fucking bitch', 'fucking life', 'feel like', 'don shit',\n       'fuck asshole', 'does mean', 'real world', 'dumb ass', 'burn hell',\n       'fucking moron', 'years ago', 'stop deleting', 'long time',\n       'big fat', 'fucking retard', 'mother fucking', 'bitch fuck',\n       'stop making', 'new york', 'spend time', 'reliable source',\n       'rot hell', 'don need', 'fucking faggot', 'discussion page',\n       'think know', 'don fucking'], dtype='<U31')"
     },
     "execution_count": 67,
     "metadata": {},
     "output_type": "execute_result"
    }
   ],
   "source": [
    "top_mi_insult = np.argsort(mi_insult)[::-1][:100]\n",
    "features[top_mi_insult]"
   ],
   "metadata": {
    "collapsed": false,
    "pycharm": {
     "name": "#%%\n"
    }
   }
  },
  {
   "cell_type": "markdown",
   "source": [
    "## (6/6) Mutual information score ranking for \"Identity Hate\" (top 100)"
   ],
   "metadata": {
    "collapsed": false
   }
  },
  {
   "cell_type": "code",
   "execution_count": 68,
   "outputs": [
    {
     "data": {
      "text/plain": "array(['piece shit', 'talk page', 'fucking gay', 'don know', 'bitch ass',\n       'fucking faggot', 'people like', 'just like', 'gay ass',\n       'suck dick', 'son bitch', 'fuck fuck', 'black people', 'don like',\n       'fuck fucking', 'mother fucker', 'eat shit', 'fuck faggot',\n       'gay gay', 'fuck nigger', 'cock sucker', 'shit fuck', 'don care',\n       'fucking life', 'suck cock', 'shut fuck', 'user page',\n       'nigga fuck', 'don want', 'nigger nigger', 'big fat', 'year old',\n       'bitch fuck', 'little bitch', 'look like', 'looks like',\n       'fucking bitch', 'white trash', 'personal attack', 'gay faggot',\n       'hope die', 'like gay', 'fucking nigger', 'fuck wikipedia',\n       'personal attacks', 'shit fucking', 'cunt fuck', 'fucking stupid',\n       'fucking cunt', 'nigger lover', 'ass bitch', 'fuck nigga',\n       'ass nigga', 'fuck bitch', 'fucking idiot', 'white people',\n       'fuck think', 'ur gay', 'did delete', 'life fucking',\n       'fuck stupid', 'faggot ass', 'neo nazi', 'ip address', 'don fuck',\n       'gay fag', 'little faggot', 'fucking shit', 'gay fuck', 'gay boy',\n       'edit page', 'point view', 'dont care', 'just want', 'make sure',\n       'don think', 'comment added', 'real life', 'en wikipedia',\n       'unsigned comment', 'dont fuck', 'preceding unsigned', 'burn hell',\n       'mother fucking', 'll just', 'http www', 'anti semite',\n       'bitch fucking', 'stop fucking', 'die die', 'hey faggot',\n       'does make', 'fuck right', 'little boys', 'god damn', 'dont know',\n       'fuck gay', 'gay shit', 'acting like', 'fucking niggers'],\n      dtype='<U31')"
     },
     "execution_count": 68,
     "metadata": {},
     "output_type": "execute_result"
    }
   ],
   "source": [
    "top_mi_identity_hate = np.argsort(mi_identity_hate)[::-1][:100]\n",
    "features[top_mi_identity_hate]"
   ],
   "metadata": {
    "collapsed": false,
    "pycharm": {
     "name": "#%%\n"
    }
   }
  }
 ],
 "metadata": {
  "kernelspec": {
   "display_name": "Python 3",
   "language": "python",
   "name": "python3"
  },
  "language_info": {
   "codemirror_mode": {
    "name": "ipython",
    "version": 2
   },
   "file_extension": ".py",
   "mimetype": "text/x-python",
   "name": "python",
   "nbconvert_exporter": "python",
   "pygments_lexer": "ipython2",
   "version": "2.7.6"
  }
 },
 "nbformat": 4,
 "nbformat_minor": 0
}